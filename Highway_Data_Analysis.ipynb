{
  "metadata": {
    "kernelspec": {
      "name": "python",
      "display_name": "Python (Pyodide)",
      "language": "python"
    },
    "language_info": {
      "codemirror_mode": {
        "name": "python",
        "version": 3
      },
      "file_extension": ".py",
      "mimetype": "text/x-python",
      "name": "python",
      "nbconvert_exporter": "python",
      "pygments_lexer": "ipython3",
      "version": "3.8"
    }
  },
  "nbformat_minor": 5,
  "nbformat": 4,
  "cells": [
    {
      "id": "3950e8eb-7108-4842-8c57-3ff0a6384378",
      "cell_type": "markdown",
      "source": "# Traffic Data Analysis and Visualization using Jupyter, Python and Pandas",
      "metadata": {}
    },
    {
      "id": "c304c332-35a6-45e2-a4e5-8796e4a67e36",
      "cell_type": "code",
      "source": "import pandas\nimport math",
      "metadata": {
        "trusted": true
      },
      "outputs": [],
      "execution_count": 1
    },
    {
      "id": "92e2d548-478f-42f6-aa2d-2508729aa1a5",
      "cell_type": "code",
      "source": "laned_data = pandas.read_csv('5270Sapp.csv', parse_dates=['Time_AEST'])",
      "metadata": {
        "trusted": true
      },
      "outputs": [],
      "execution_count": 2
    },
    {
      "id": "00d4a834-cff6-4530-9163-25ed3e4c0503",
      "cell_type": "code",
      "source": "def harmonic_mean_speed(group) :\n    hms_dataframe = group\n    hms_dataframe['vol_over_speed'] = hms_dataframe['Volume']/hms_dataframe['Speed']\n    hms_dataframe = hms_dataframe.dropna(subset=['Speed']) \n\n    try:\n        hms = sum(hms_dataframe['Volume'])/sum(hms_dataframe['vol_over_speed'])\n    except:\n        hms = float('NaN')\n        \n    return hms",
      "metadata": {
        "trusted": true
      },
      "outputs": [],
      "execution_count": 3
    },
    {
      "id": "7cb75020-5494-43cf-92e2-f58c832eb4c4",
      "cell_type": "markdown",
      "source": "# Determine volume weighted harmonic mean speed for each lane (detector)\n",
      "metadata": {}
    },
    {
      "id": "e761c617-4e24-4d8e-87a6-55086ff64f04",
      "cell_type": "code",
      "source": "laned_data.groupby('Detector_ID').apply(harmonic_mean_speed)",
      "metadata": {
        "trusted": true
      },
      "outputs": [
        {
          "execution_count": 4,
          "output_type": "execute_result",
          "data": {
            "text/plain": "Detector_ID\n5270-VD01    55.775448\n5270-VD03    74.248360\n5270-VD05    85.463014\n5270-VD07    85.805461\ndtype: float64"
          },
          "metadata": {}
        }
      ],
      "execution_count": 4
    },
    {
      "id": "a29f1b51-6435-4c37-8d54-c3583225641c",
      "cell_type": "markdown",
      "source": "# Combine lanes into one row for each time point",
      "metadata": {}
    },
    {
      "id": "0cc2239f-6187-49c8-86c3-2b8d14053c48",
      "cell_type": "code",
      "source": "def combine_lanes(group) :\n    return pandas.Series([group.Volume.mean(), group.Occupancy.mean(), harmonic_mean_speed(group)], index=['Volume', 'Occupancy', 'Speed'])\n\ncombined_lanes = laned_data.groupby('Time_AEST').apply(combine_lanes)\ncombined_lanes",
      "metadata": {
        "trusted": true
      },
      "outputs": [],
      "execution_count": null
    },
    {
      "id": "fc6b977f-222c-44cc-bcd8-a713de354d76",
      "cell_type": "markdown",
      "source": "# Analyse 2nd Week (2021-05-10 to 2021-05-16)",
      "metadata": {}
    },
    {
      "id": "4378227f-d27e-4ec8-9471-c4ab7852aed3",
      "cell_type": "code",
      "source": "import datetime\nimport calendar\n\nstart = datetime.date(2021, 5, 10)\nend = datetime.date(2021, 5, 17)",
      "metadata": {
        "trusted": true
      },
      "outputs": [],
      "execution_count": null
    },
    {
      "id": "044d89cd-166e-427f-a16d-4894eb03d29d",
      "cell_type": "code",
      "source": "combined_lanes[start:end].plot.line(figsize = (14, 4), y = 'Volume', legend=False, title = 'Combined Volume vs Date time (for week 2)',\nxlabel = 'Date time (AEST)', ylabel = ('Volume (vehicles/min)'), fontsize = 6)",
      "metadata": {
        "trusted": true
      },
      "outputs": [],
      "execution_count": null
    },
    {
      "id": "fe7daaa6-6661-4f84-bd5d-b5f292fa6921",
      "cell_type": "markdown",
      "source": "<b>^ Above plot indicates the Volume (vehicles/min) spikes each day and dips each night, the spikes on the 15th and 16th May are the lowest (this makes sense at 15th - 16th May was a weekend where highway traffic is generally lower). </b>",
      "metadata": {}
    },
    {
      "id": "41705c30-a7ed-4b6e-8084-7ae3d3ea5462",
      "cell_type": "code",
      "source": "combined_lanes[start:end].plot.line(figsize = (14, 4), y = 'Occupancy', legend=False, title = 'Combined Occupancy vs Date time (for week 2)',\nxlabel = 'Date time (AEST)', ylabel = 'Occupancy %', fontsize = 6)",
      "metadata": {
        "trusted": true
      },
      "outputs": [],
      "execution_count": null
    },
    {
      "id": "c32628e8-7aaa-47d4-9e80-793b54b7140a",
      "cell_type": "markdown",
      "source": "<b>^ Above plot indicates that road occupancy reached critical amounts (>70%) on the 12th May and reaching quite high % levels on other weekdays, this may have resulted from large volumes of peak hour traffic and/or cars going very slowly over the sensors. </b>",
      "metadata": {}
    },
    {
      "id": "b693680c-5d0e-44f8-9a56-a73ff3b55c59",
      "cell_type": "code",
      "source": "combined_lanes[start:end].plot.line(figsize = (14, 4), y = 'Speed', legend=False, title = 'Combined Speed vs Date time (for week 2)',\nxlabel = 'Date time (AEST)', ylabel = 'Speed (km/h)', fontsize = 6)",
      "metadata": {
        "trusted": true
      },
      "outputs": [],
      "execution_count": null
    },
    {
      "id": "24ec14ce-2826-440b-bdd8-26f223cec1d6",
      "cell_type": "markdown",
      "source": "<b>^ Above plot indicates that speed during non-peak hours (as seen in previous plots) is generally around 100km/h, however during peak hours the WHM speed drops significantly each day, nearing 0 km/h on the 11th May perhaps indicating a crash or perhaps just due to the very high occupancy indicated during this period leading to near stand-still traffic. The speed does not have a significant dip on the weekend as traffic seems to flow more freely. </b>",
      "metadata": {}
    },
    {
      "id": "9db700f6-6a63-41e0-b489-3fc4257ee729",
      "cell_type": "markdown",
      "source": "# Analyse by Day of week",
      "metadata": {}
    },
    {
      "id": "4c274b5a-14bd-4dcc-9c09-602922dc9f54",
      "cell_type": "code",
      "source": "combined_lanes_2 = combined_lanes.reset_index(['Time_AEST'])\n",
      "metadata": {
        "trusted": true
      },
      "outputs": [],
      "execution_count": null
    },
    {
      "id": "15d6d925-a13e-4a18-b3fd-2e75b32b1fda",
      "cell_type": "code",
      "source": "combined_lanes_2['day_of_week'] = combined_lanes_2['Time_AEST'].dt.day_name()\n\nsorter = ['Monday', 'Tuesday', 'Wednesday', 'Thursday', 'Friday', 'Saturday', 'Sunday']\nsorter_index = dict(zip(sorter, range(len(sorter))))\n\ncombined_lanes_2['Day_id'] = combined_lanes_2.index\ncombined_lanes_2['Day_id'] = combined_lanes_2['day_of_week'].map(sorter_index)\n",
      "metadata": {
        "trusted": true
      },
      "outputs": [],
      "execution_count": null
    },
    {
      "id": "e34a60b3-e786-4712-9b62-1be6cfb34077",
      "cell_type": "code",
      "source": "boxplot_volume_by_day = combined_lanes_2.plot.box(showfliers = True, column='Volume', by='Day_id', figsize=(14,4), xticks=(range(0,8)), title = 'Boxplot grouped by day',\nxlabel = 'Day of week', ylabel = 'Volume (vehicles/min)', fontsize = 6)\n\nboxplot_volume_by_day\n\n# Wayne says to 'google pandas set ticks' - tried alot of things, can do this at the end 🤔\n# Need to also set 'xlabel'\n",
      "metadata": {
        "trusted": true
      },
      "outputs": [],
      "execution_count": null
    },
    {
      "id": "dde9deac-7ac0-46c1-9afc-c244f2c4365e",
      "cell_type": "markdown",
      "source": "<b>^ Maximum and minimum traffic volumes seem to be relatively uniform across all days of the week (approx. 0-32 vehicles/min), however the upper quartile and mean are all increased during weekdays with Fridays having the highest quartiles across the board indicating that general volume is at it's highest on Fridays (perhaps due to the combination of work and holiday commuters using the highway leading into the weekend). </b>",
      "metadata": {}
    },
    {
      "id": "10498488-cb5d-4cec-acc5-e6682693cdc4",
      "cell_type": "code",
      "source": "boxplot_speed_by_day = combined_lanes_2.plot.box(showfliers = True, column='Speed', by='Day_id', figsize=(14,4), xticks=(range(0,8)), title = 'Boxplot grouped by day',\nxlabel = 'Day of week', ylabel = 'Speed (km/h)', fontsize = 6)\n\nboxplot_speed_by_day\n",
      "metadata": {
        "trusted": true
      },
      "outputs": [],
      "execution_count": null
    },
    {
      "id": "3d5a092b-44c3-4fdf-9650-58da8b2f72c9",
      "cell_type": "markdown",
      "source": "<b>^ If we set the showfliers function to false we see that the boxplot returns a relatively smooth quantile boxplot for each day ranging from ~85-105km/h, however when outliers are shown  we can see that the speed outliers are quite extreme (particularly to the downside), indicating that near-stand-still traffic takes place (likely during peak hour) regularly on all days except Sunday with the upper and lower quartiles generally sitting near 100km/h. All weekdays and Saturdays seem to be worst affected (interestingly Satrudays seem to show lower outlier and mean speed than Mondays). It can be noted that there are many more outliers to the downside than the upside and while there are definitely cars speeding they are far more likely to be going below the speed limit. </b>",
      "metadata": {}
    },
    {
      "id": "6b38919a-f875-439b-af32-b773bd20a356",
      "cell_type": "code",
      "source": "boxplot_occupancy_by_day = combined_lanes_2.plot.box(showfliers = True, column='Occupancy', by='Day_id', figsize=(14,4), xticks=(range(0,8)), title = 'Boxplot grouped by day',\nxlabel = 'Day of week', ylabel = 'Occupancy (%)', fontsize = 6)\n\nboxplot_occupancy_by_day",
      "metadata": {
        "trusted": true
      },
      "outputs": [],
      "execution_count": null
    },
    {
      "id": "97b4a3e6-eeca-470e-a45a-91a20d9bf8c5",
      "cell_type": "markdown",
      "source": "<b>^ Significant outliers (likely during peak hour) show that occupancy reaches near-critical levels most week-days however the majority of occupancy rates are within the ~0-20% range. Tuesday seem to show the most concerningly high occupany rates. It is important to note that this road data was collected during intermittent Covid Lockdowns between 2020-2021 which indicates that an increase in occupancy rates may be noticed in data taken from other years due to increased pre/post-lockdown commuting. It is important to display outlier data in this boxplot as removing it illustrates a (perhaps deceiving) dataset of low occupancy for all days (approx. 0-22%) </b>",
      "metadata": {}
    },
    {
      "id": "99fe7219-ed04-4ed6-bcf9-6ace2689aef1",
      "cell_type": "markdown",
      "source": "# Analyse by Hour of day",
      "metadata": {}
    },
    {
      "id": "dccc8e7e-a2b3-409f-9ce0-c6454ce5d9b8",
      "cell_type": "code",
      "source": "#\n\nlaned_data_wrk = laned_data.copy()\n\nlaned_data_wrk['day_of_week'] = laned_data_wrk['Time_AEST'].dt.day_name()\n\nsorter = ['Monday', 'Tuesday', 'Wednesday', 'Thursday', 'Friday', 'Saturday', 'Sunday']\nsorter_index = dict(zip(sorter, range(len(sorter))))\n\nlaned_data_wrk['Day_id'] = laned_data_wrk.index\nlaned_data_wrk['Day_id'] = laned_data_wrk['day_of_week'].map(sorter_index)\n",
      "metadata": {
        "trusted": true
      },
      "outputs": [],
      "execution_count": null
    },
    {
      "id": "56ec0fee-de50-4381-911d-cd74ba58d5e8",
      "cell_type": "code",
      "source": "laned_data_wrk['hour_of_day'] = laned_data_wrk['Time_AEST'].dt.hour\n\nlaned_data_wrk\n",
      "metadata": {
        "trusted": true
      },
      "outputs": [],
      "execution_count": null
    },
    {
      "id": "3e8463e7-1ab4-4f3e-aba0-99cfda6addb9",
      "cell_type": "code",
      "source": "df_days = laned_data_wrk.groupby(['Day_id','day_of_week','hour_of_day'], as_index=False).mean().drop(['Occupancy','Speed','Day_id'], axis=1)\n\ndf_combined = laned_data_wrk.groupby(['hour_of_day'], as_index=False).mean().drop(['Occupancy','Speed','Day_id'], axis=1)\n\ndf_combined['day_of_week'] = 'Combined'\n\ndf_concat = pandas.concat([df_days,df_combined], ignore_index=True)\n\nlineplot_volume_vs_hour = df_concat.pivot(index='hour_of_day', columns='day_of_week', values='Volume')\n",
      "metadata": {
        "trusted": true
      },
      "outputs": [],
      "execution_count": null
    },
    {
      "id": "5ca14c3c-1a34-4d21-a65b-8679f038ab8b",
      "cell_type": "code",
      "source": "lineplot_volume_vs_hour.plot.line(xlabel = 'Hour of day', ylabel = 'Volume (Vehicles/min)', title = 'Volume vs hour of day'\n                  , figsize=(14,4), fontsize = 6, xticks = range(0,24))",
      "metadata": {
        "trusted": true
      },
      "outputs": [],
      "execution_count": null
    },
    {
      "id": "262e452e-2a08-463e-a24c-91ec3375ffe0",
      "cell_type": "markdown",
      "source": "<b>^ This line plot shows (as we hypothesised earlier) that traffic volume does indeed pick up during daylight hours (beginning from about 5am, peaking just after 2pm and slowly decreasing until it evens out at around 7pm). An interesting anomaly are the Saturdays & Sundays displaying peaks in the mid-morning and gradually dissipating for the remainder of the day. </b>",
      "metadata": {}
    },
    {
      "id": "683d5624-6588-431d-b620-e1ef007efb6c",
      "cell_type": "code",
      "source": "df_days = laned_data_wrk.groupby(['Day_id','day_of_week','hour_of_day'], as_index=False).mean().drop(['Volume','Speed','Day_id'], axis=1)\n\ndf_combined = laned_data_wrk.groupby(['hour_of_day'], as_index=False).mean().drop(['Volume','Speed','Day_id'], axis=1)\n\ndf_combined['day_of_week'] = 'Combined'\n\ndf_concat = pandas.concat([df_days,df_combined], ignore_index=True)\n\nlineplot_occupancy_vs_hour = df_concat.pivot(index='hour_of_day', columns='day_of_week', values='Occupancy')",
      "metadata": {
        "trusted": true
      },
      "outputs": [],
      "execution_count": null
    },
    {
      "id": "5cec2a5a-4925-47eb-8852-b281d8e1edd7",
      "cell_type": "code",
      "source": "lineplot_occupancy_vs_hour.plot.line(xlabel = 'Hour of day', ylabel = 'Occupancy %', title = 'Occupancy vs hour of day'\n                  , figsize= (14,4), fontsize = 6, xticks = range(0,24))",
      "metadata": {
        "trusted": true
      },
      "outputs": [],
      "execution_count": null
    },
    {
      "id": "a4e3978d-2d25-4246-b7f1-6ac0df927071",
      "cell_type": "markdown",
      "source": "<b>^ High Occupancy, as expected is on all weekdays, however it is interesting to note that the peak occupancy levels are quite a bit more elevated in the afternoon peak hours with only Saturdays & Sundays having their peak traffic prior to midday. In general it would seems that the morning peak hour commute is generally a faster one according to this plot. </b>",
      "metadata": {}
    },
    {
      "id": "e3a2d104-ea59-47f7-ae58-139a940eec99",
      "cell_type": "code",
      "source": "df_days = laned_data_wrk.groupby(['Day_id','day_of_week','hour_of_day'], as_index=False).apply(lambda x: pandas.Series({'Speed':harmonic_mean_speed(x)}))\n\ndf_combined = laned_data_wrk.groupby(['hour_of_day'], as_index=False).apply(lambda x: pandas.Series({'Speed':harmonic_mean_speed(x)}))\n\ndf_combined['day_of_week'] = 'Combined'\n\ndf_concat = pandas.concat([df_days,df_combined], ignore_index=True)\n\nlineplot_speed_vs_hour = df_concat.pivot(index='hour_of_day', columns='day_of_week', values='Speed')",
      "metadata": {
        "trusted": true
      },
      "outputs": [],
      "execution_count": null
    },
    {
      "id": "4bba4d2f-8016-465b-b0df-0c036d91b1e4",
      "cell_type": "code",
      "source": "lineplot_speed_vs_hour.plot.line(xlabel = 'Hour of day', ylabel = 'Speed (Km/h)', title = 'Speed vs hour of day'\n                  , figsize= (14,4), fontsize = 6, xticks = range(0,24))",
      "metadata": {
        "trusted": true
      },
      "outputs": [],
      "execution_count": null
    },
    {
      "id": "f5a149dc-261c-4c2c-bd5e-62e54eab0ee3",
      "cell_type": "markdown",
      "source": "<b>^ This plot seems to be quite close to a direct inverse correlation of the above Occupancy plot. Friday afternoons are the worst offenders for low speeds, this is unsurprising as anyone who has used this highway to travel to the coast from Brisbane on a Friday afternoon knows that it can take alot longer than normal. The lack of drop in speeds during all mornings is surprising given the road volume seen at these times. Perhaps people just drive slower en route home from work or the road reaches a 'critical speed' point where a certain amount of commuters will cause traffic to gridlock.  </b>",
      "metadata": {}
    },
    {
      "id": "268a7ff7-71dd-4674-871b-7c5f19463fba",
      "cell_type": "markdown",
      "source": "# Analyse relationship between variables",
      "metadata": {}
    },
    {
      "id": "f06d54d5-b970-4671-8d57-049e0f00d1fc",
      "cell_type": "code",
      "source": "combined_lanes.plot.scatter(subplots = False, figsize=(14,5), s=0.1, x='Speed', y='Volume', xticks=(range(0,250,25)), fontsize = 6\n                            , xlabel = 'Speed (km/h)', ylabel = 'Volume (Vehicles/min)', title = 'Combined Volume vs Speed (Scatter Plot)')\n",
      "metadata": {
        "trusted": true
      },
      "outputs": [],
      "execution_count": null
    },
    {
      "id": "8e0c0bb9-0196-4f0d-8882-6ba2ce6674d1",
      "cell_type": "markdown",
      "source": "<b>^ This scatter plot indicates that a general trend of speed being around the 100km/h mark are experienced at most volume levels (between ~0-28 vehicles/min). However what is interesting about this plot is that there is a large gap in volume experienced at speeds of between approx. 60-85km/h. The car volume then begins to increase again around the 30-50km/h range indicating that when large volumes of traffic begin to slow, it happens quite rapidly down to the 30-50km/h range with little volume observed at the 60-85km/h 'mid'-range. Large outliers showing very high and very low speeds at low volume are concerning but somewhat rare. </b>",
      "metadata": {}
    },
    {
      "id": "e3dd3707-2344-4055-98fd-69d6597c4da6",
      "cell_type": "code",
      "source": "ld2 = laned_data.copy()\n\nld2['speed_bins'] = pandas.cut(ld2.Speed,range(0,200,10))\n\nld2_lanes = ld2.groupby(['Detector_ID','speed_bins'],as_index=False).mean()\n\nld2_combined = ld2.groupby('speed_bins',as_index=False).mean()\n\nld2_combined['Detector_ID'] = 'Combined'\n",
      "metadata": {
        "trusted": true
      },
      "outputs": [],
      "execution_count": null
    },
    {
      "id": "d53b27df-839c-4b85-910a-e8c1180fbab3",
      "cell_type": "code",
      "source": "df_concat2 = pandas.concat([ld2_lanes, ld2_combined], ignore_index=True)\n\nlineplot_volume_vs_speed = df_concat2.pivot(index='speed_bins', columns='Detector_ID', values='Volume')\n",
      "metadata": {
        "trusted": true
      },
      "outputs": [],
      "execution_count": null
    },
    {
      "id": "eb16e55f-6b6f-49ab-a7f6-329cc1a5f2ba",
      "cell_type": "code",
      "source": "speed_xticks = #manually write out ticks \n\nlineplot_volume_vs_speed.plot.line(xlabel = 'Speed (Km/h)', ylabel = 'Volume (Vehicles/min)', title = 'Volume vs Speed',\n                                   figsize= (14,5), fontsize = 6, xticks = speed_xticks)",
      "metadata": {
        "trusted": true
      },
      "outputs": [],
      "execution_count": null
    },
    {
      "id": "4555868b-8baa-41e8-a805-b9a94bc59a0b",
      "cell_type": "markdown",
      "source": "<b>^ This chart interestingly shows that the VD01 Detector generally experiences quite a bit lower volumes and speeds than the other lanes, with very little volume at the 100km/h region (this coroborates with the WHM speed of VD01 being by far the lowest). The other 3 detectors VD03/05/07 experience much greater volumes generally and in particular closer to the 100km/h speed. The would indicate that VD01 is likely the 'slow' left-hand lane and VD07 is the 'fast' lane. </b>",
      "metadata": {}
    },
    {
      "id": "30802fba-fdb6-479d-8cb8-f8b3df9f3f0c",
      "cell_type": "code",
      "source": "ld3 = laned_data.copy()\n\nld3['occupancy_bins'] = pandas.cut(ld3.Occupancy,range(0,100,5))\n\nld3_lanes = ld3.groupby(['Detector_ID','occupancy_bins'],as_index=False).mean()\n\nld3_combined = ld3.groupby('occupancy_bins',as_index=False).mean()\n\nld3_combined['Detector_ID'] = 'Combined'\n",
      "metadata": {
        "trusted": true
      },
      "outputs": [],
      "execution_count": null
    },
    {
      "id": "e090fe61-f242-4150-a530-ec70bf6c57ec",
      "cell_type": "code",
      "source": "df_concat3 = pandas.concat([ld3_lanes, ld3_combined], ignore_index=True)\n\nlineplot_volume_vs_occupancy = df_concat3.pivot(index='occupancy_bins', columns='Detector_ID', values='Volume')\n",
      "metadata": {
        "trusted": true
      },
      "outputs": [],
      "execution_count": null
    },
    {
      "id": "4ab61f2f-55b4-4d42-be21-10c7927ccd0c",
      "cell_type": "code",
      "source": "lineplot_volume_vs_occupancy.plot.line(xlabel = 'Occupancy (%)', ylabel = 'Volume (Vehicles/min)', title = 'Volume vs Occupancy'\n                  , figsize= (14,5), fontsize = 6)\n",
      "metadata": {
        "trusted": true
      },
      "outputs": [],
      "execution_count": null
    },
    {
      "id": "a8b47260-14ba-4f2e-bd1c-6be080b50b1f",
      "cell_type": "markdown",
      "source": "<b>^ text </b>",
      "metadata": {}
    },
    {
      "id": "c5ac8224-9055-4e1b-9c17-62033bc4a454",
      "cell_type": "code",
      "source": "\nld3_lanes = ld3.groupby(['Detector_ID','occupancy_bins'],as_index=False).apply(lambda x: pandas.Series({'Speed':harmonic_mean_speed(x)}))\n\nld3_combined = ld3.groupby('occupancy_bins',as_index=False).apply(lambda x: pandas.Series({'Speed':harmonic_mean_speed(x)}))\n\nld3_combined['Detector_ID'] = 'Combined'\n",
      "metadata": {
        "trusted": true
      },
      "outputs": [],
      "execution_count": null
    },
    {
      "id": "c0398a2d-2d47-40d6-a24a-98fbb0ab12a4",
      "cell_type": "code",
      "source": "df_concat3 = pandas.concat([ld3_lanes, ld3_combined], ignore_index=True)\n\nlineplot_speed_vs_occupancy = df_concat3.pivot(index='occupancy_bins', columns='Detector_ID', values='Speed')\n#drop NANs to clean data\nlineplot_speed_vs_occupancy = lineplot_speed_vs_occupancy.dropna()",
      "metadata": {
        "trusted": true
      },
      "outputs": [],
      "execution_count": null
    },
    {
      "id": "2e1f216a-17a3-4c5f-b8c3-625304bdb1d2",
      "cell_type": "code",
      "source": "lineplot_speed_vs_occupancy.plot.line(xlabel = 'Occupancy (%)', ylabel = 'Speed (km/h)', title = 'Speed vs Occupancy'\n                  , figsize= (14,5), fontsize = 6)\n",
      "metadata": {
        "trusted": true
      },
      "outputs": [],
      "execution_count": null
    },
    {
      "id": "127f7483-4e3d-41e8-802b-635b3d8f0fd5",
      "cell_type": "code",
      "source": "lineplot_speed_vs_occupancy",
      "metadata": {
        "trusted": true
      },
      "outputs": [],
      "execution_count": null
    },
    {
      "id": "ef872e94-74e1-4ca2-80f5-8da486a4682d",
      "cell_type": "markdown",
      "source": "<b>^ text </b>",
      "metadata": {}
    }
  ]
}